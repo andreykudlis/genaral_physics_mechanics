{
 "cells": [
  {
   "cell_type": "markdown",
   "id": "c036688d",
   "metadata": {},
   "source": [
    "# Формула Резерфорда. Гравитационное взаимодействие\n",
    "\n",
    "<br>\n",
    "\n",
    "\\begin{align}\n",
    "    \\tan{\\frac{\\theta}{2}}\\;=\\;k\\cdot \\frac{Q_1\\cdot Q_2}{\\mu b v_{\\infty}^2} \\Rightarrow b\\;=\\;k\\cdot \\frac{Q_1\\cdot Q_2}{\\mu v_{\\infty}^2 \\tan{\\frac{\\theta}{2}}}. \\nonumber\n",
    "\\end{align}\n",
    "\n",
    "<br>\n",
    "\n",
    "\\begin{align}\n",
    "    \\frac{db}{d\\theta}\\;=\\;k\\cdot \\frac{Q_1\\cdot Q_2}{\\mu v_{\\infty}^2}\\cdot \\frac{1\\cdot (-1)}{(\\tan{\\frac{\\theta}{2}})^2}\\cdot \\frac{1}{\\cos^2{\\frac{\\theta}{2}}}\\cdot \\frac{1}{2}\\;=\\; -k\\frac{Q_1\\cdot Q_2}{2\\mu v_{\\infty}^2}\\cdot \\frac{1}{\\sin^2{\\frac{\\theta}{2}}}, \\nonumber\n",
    "    \\\\ \\nonumber\n",
    "\\end{align}\n",
    "\n",
    "<br>\n",
    "\n",
    "\\begin{align}\n",
    "    \\frac{d\\sigma}{d\\Omega}\\;=\\; \\frac{1}{2}(k\\frac{Q_1\\cdot Q_2}{\\mu v_{\\infty}^2})^2 \\cdot \\frac{1}{\\tan{\\frac{\\theta}{2}} \\cdot \\sin^2{\\frac{\\theta}{2}} \\cdot 2\\sin{\\frac{\\theta}{2}}\\cos{\\frac{\\theta}{2}}}\\;=\\;\\frac{1}{4} \\cdot (k\\frac{Q_1\\cdot Q_2}{\\mu v_{\\infty}^2})^2 \\cdot \\frac{1}{ \\sin^4{\\frac{\\theta}{2}}}. \\qquad \\blacksquare\n",
    "\\end{align}\n",
    "\n",
    "<br>\n",
    "\n",
    "Прежде чем мы приступим к гравитационному взаимодействию, которое описывается (в рамках классической физики) законом всемирного тяготения, необходимо рассмотреть такое понятие как секториальная скорость. Она обозначается буквой $\\vec{\\sigma}$ и имеет смысл площади, которая заметается радиус-вектором частицы за единицу времени!\n",
    "\n",
    "<br>\n",
    "\n",
    "<figure>\n",
    "    <center>\n",
    "    <img src=\"pics/74.png\" width=\"400\" align=\"center\"/>\n",
    "        <figcaption>Рис. 8.1: Изменение радиус вектора за время dt.</figcaption>\n",
    "    </center>\n",
    "</figure>\n",
    "\n",
    "<br>\n",
    "\n",
    "\n",
    "\\begin{align}\n",
    "    & dS = \\dfrac{1}{2} |\\vec{r}|\\cdot|\\vec{r}+ \\vec{dr}| \\cdot sin(d\\alpha) = \\dfrac{1}{2} |\\vec{r}|\\cdot |\\vec{r}| \\cdot sin d\\alpha  \\\\\n",
    "    & \\nonumber d\\vec{S} = \\dfrac{1}{2} [\\vec{r}\\times \\vec{dr}] = \\dfrac{1}{2} [\\vec{r}\\times\\vec{r}+\\vec{dr}]\\\\\n",
    "    & \\nonumber |d\\vec{S}|=\\dfrac{1}{2} \\cdot |\\vec{r}||\\vec{dr}|\\cdot sin\\dfrac{\\pi}{2}=\\dfrac{1}{2} |\\vec{r}||\\vec{r}+\\vec{dr}|\\cdot sin(d\\alpha) = \\dfrac{1}{2} |\\vec{r}||\\vec{r}|\\cdot d\\alpha. \n",
    "    \\end{align}\n",
    "\n",
    "<br>\n",
    "\n",
    "Всё с точностью до величин второго порядка малости. \n",
    "\n",
    "<br>\n",
    "\n",
    "\\begin{align}\n",
    "    \\Rightarrow \\vec{\\sigma} = \\dfrac{d\\vec{S}}{dt} = \\dfrac{1}{2} \\cdot [\\vec{r}\\times\\dfrac{\\vec{dr}}{dt}] = \\dfrac{1}{2m} \\cdot [\\vec{r}, \\vec{p}] = \\dfrac{\\vec{L}}{2m}.\n",
    "    \\\\ \\nonumber\n",
    "\\end{align}\n",
    "\n"
   ]
  },
  {
   "cell_type": "code",
   "execution_count": null,
   "id": "0c8db53a",
   "metadata": {},
   "outputs": [],
   "source": []
  }
 ],
 "metadata": {
  "kernelspec": {
   "display_name": "Python 3 (ipykernel)",
   "language": "python",
   "name": "python3"
  },
  "language_info": {
   "codemirror_mode": {
    "name": "ipython",
    "version": 3
   },
   "file_extension": ".py",
   "mimetype": "text/x-python",
   "name": "python",
   "nbconvert_exporter": "python",
   "pygments_lexer": "ipython3",
   "version": "3.8.10"
  }
 },
 "nbformat": 4,
 "nbformat_minor": 5
}
